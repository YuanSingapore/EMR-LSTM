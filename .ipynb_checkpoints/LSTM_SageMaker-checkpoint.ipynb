{
 "cells": [
  {
   "cell_type": "code",
   "execution_count": 3,
   "id": "87f9238d",
   "metadata": {},
   "outputs": [
    {
     "name": "stdout",
     "output_type": "stream",
     "text": [
      "Collecting tqdm\n",
      "  Downloading tqdm-4.61.0-py2.py3-none-any.whl (75 kB)\n",
      "\u001b[K     |████████████████████████████████| 75 kB 6.0 MB/s  eta 0:00:01\n",
      "\u001b[?25hRequirement already satisfied: seaborn in /home/ec2-user/anaconda3/envs/tensorflow_p36/lib/python3.6/site-packages (from -r ./src/requirements.txt (line 2)) (0.11.1)\n",
      "Requirement already satisfied: numpy in /home/ec2-user/anaconda3/envs/tensorflow_p36/lib/python3.6/site-packages (from -r ./src/requirements.txt (line 3)) (1.18.5)\n",
      "Collecting argparse\n",
      "  Downloading argparse-1.4.0-py2.py3-none-any.whl (23 kB)\n",
      "Requirement already satisfied: sklearn in /home/ec2-user/anaconda3/envs/tensorflow_p36/lib/python3.6/site-packages (from -r ./src/requirements.txt (line 5)) (0.0)\n",
      "Requirement already satisfied: pandas>=0.23 in /home/ec2-user/anaconda3/envs/tensorflow_p36/lib/python3.6/site-packages (from seaborn->-r ./src/requirements.txt (line 2)) (1.1.5)\n",
      "Requirement already satisfied: scipy>=1.0 in /home/ec2-user/anaconda3/envs/tensorflow_p36/lib/python3.6/site-packages (from seaborn->-r ./src/requirements.txt (line 2)) (1.5.3)\n",
      "Requirement already satisfied: matplotlib>=2.2 in /home/ec2-user/anaconda3/envs/tensorflow_p36/lib/python3.6/site-packages (from seaborn->-r ./src/requirements.txt (line 2)) (3.2.1)\n",
      "Requirement already satisfied: cycler>=0.10 in /home/ec2-user/anaconda3/envs/tensorflow_p36/lib/python3.6/site-packages (from matplotlib>=2.2->seaborn->-r ./src/requirements.txt (line 2)) (0.10.0)\n",
      "Requirement already satisfied: python-dateutil>=2.1 in /home/ec2-user/anaconda3/envs/tensorflow_p36/lib/python3.6/site-packages (from matplotlib>=2.2->seaborn->-r ./src/requirements.txt (line 2)) (2.8.1)\n",
      "Requirement already satisfied: pyparsing!=2.0.4,!=2.1.2,!=2.1.6,>=2.0.1 in /home/ec2-user/anaconda3/envs/tensorflow_p36/lib/python3.6/site-packages (from matplotlib>=2.2->seaborn->-r ./src/requirements.txt (line 2)) (2.4.7)\n",
      "Requirement already satisfied: kiwisolver>=1.0.1 in /home/ec2-user/anaconda3/envs/tensorflow_p36/lib/python3.6/site-packages (from matplotlib>=2.2->seaborn->-r ./src/requirements.txt (line 2)) (1.3.1)\n",
      "Requirement already satisfied: six in /home/ec2-user/anaconda3/envs/tensorflow_p36/lib/python3.6/site-packages (from cycler>=0.10->matplotlib>=2.2->seaborn->-r ./src/requirements.txt (line 2)) (1.15.0)\n",
      "Requirement already satisfied: pytz>=2017.2 in /home/ec2-user/anaconda3/envs/tensorflow_p36/lib/python3.6/site-packages (from pandas>=0.23->seaborn->-r ./src/requirements.txt (line 2)) (2021.1)\n",
      "Requirement already satisfied: scikit-learn in /home/ec2-user/anaconda3/envs/tensorflow_p36/lib/python3.6/site-packages (from sklearn->-r ./src/requirements.txt (line 5)) (0.24.1)\n",
      "Requirement already satisfied: threadpoolctl>=2.0.0 in /home/ec2-user/anaconda3/envs/tensorflow_p36/lib/python3.6/site-packages (from scikit-learn->sklearn->-r ./src/requirements.txt (line 5)) (2.1.0)\n",
      "Requirement already satisfied: joblib>=0.11 in /home/ec2-user/anaconda3/envs/tensorflow_p36/lib/python3.6/site-packages (from scikit-learn->sklearn->-r ./src/requirements.txt (line 5)) (1.0.1)\n",
      "Installing collected packages: tqdm, argparse\n",
      "Successfully installed argparse-1.4.0 tqdm-4.61.0\n"
     ]
    }
   ],
   "source": [
    "!pip install -r ./src/requirements.txt"
   ]
  },
  {
   "cell_type": "markdown",
   "id": "9722cd5f",
   "metadata": {},
   "source": [
    "## Test the code locally"
   ]
  },
  {
   "cell_type": "code",
   "execution_count": null,
   "id": "29d2e599",
   "metadata": {},
   "outputs": [
    {
     "name": "stdout",
     "output_type": "stream",
     "text": [
      "Using TensorFlow backend.\n",
      "WARNING:tensorflow:From /home/ec2-user/anaconda3/envs/tensorflow_p36/gpu_cuda10.0/lib/python3.6/site-packages/tensorflow_core/__init__.py:1473: The name tf.estimator.inputs is deprecated. Please use tf.compat.v1.estimator.inputs instead.\n",
      "\n",
      "Namespace(batch_norm=False, batch_size=8, beta_1=0.9, deep_supervision=False, depth=1, dim=128, dropout=0.3, epochs=50, imputation='previous', l1=0.1, l2=0.1, listfile='/home/ec2-user/SageMaker/mimic3-benchmarks/data/ventilator/', load_state='', lr=0.001, mode='train', model_dir='mimic3models/ventilator', network='keras_models/lstm.py', normalizer_state=None, optimizer='adam', partition='none', prefix='', rec_dropout=0.0, save_every=1, size_coef=4.0, small_part=False, test='/home/ec2-user/SageMaker/mimic3-benchmarks/data/ventilator/test', timestep=1.0, train='/home/ec2-user/SageMaker/mimic3-benchmarks/data/ventilator/train', verbose=2)\n",
      "listfile is:::: /home/ec2-user/SageMaker/mimic3-benchmarks/data/ventilator/train_listfile.csv\n",
      "listfile is:::: /home/ec2-user/SageMaker/mimic3-benchmarks/data/ventilator/val_listfile.csv\n",
      "config_path~~~~~~~~~~~~~ /home/ec2-user/SageMaker/container/resources/discretizer_config.json\n",
      "normalizer_state : /home/ec2-user/SageMaker/container/./normalizer/los_ts1.0.input_str:previous.start_time:zero.n5e4.normalizer\n",
      "==> using model keras_models/lstm.py\n",
      "==> not used params in network class: dict_keys(['batch_size', 'beta_1', 'epochs', 'imputation', 'l1', 'l2', 'listfile', 'load_state', 'lr', 'mode', 'model_dir', 'network', 'normalizer_state', 'optimizer', 'partition', 'prefix', 'save_every', 'size_coef', 'small_part', 'test', 'timestep', 'train', 'verbose', 'header', 'ihm_pos'])\n",
      "final activation is: sigmoid\n",
      "------------------------------------\n",
      "WARNING:tensorflow:From /home/ec2-user/anaconda3/envs/tensorflow_p36/lib/python3.6/site-packages/keras/backend/tensorflow_backend.py:517: The name tf.placeholder is deprecated. Please use tf.compat.v1.placeholder instead.\n",
      "\n",
      "WARNING:tensorflow:From /home/ec2-user/anaconda3/envs/tensorflow_p36/lib/python3.6/site-packages/keras/backend/tensorflow_backend.py:74: The name tf.get_default_graph is deprecated. Please use tf.compat.v1.get_default_graph instead.\n",
      "\n",
      "WARNING:tensorflow:From /home/ec2-user/anaconda3/envs/tensorflow_p36/lib/python3.6/site-packages/keras/backend/tensorflow_backend.py:4138: The name tf.random_uniform is deprecated. Please use tf.random.uniform instead.\n",
      "\n",
      "WARNING:tensorflow:From /home/ec2-user/anaconda3/envs/tensorflow_p36/lib/python3.6/site-packages/keras/backend/tensorflow_backend.py:133: The name tf.placeholder_with_default is deprecated. Please use tf.compat.v1.placeholder_with_default instead.\n",
      "\n",
      "WARNING:tensorflow:From /home/ec2-user/anaconda3/envs/tensorflow_p36/lib/python3.6/site-packages/keras/backend/tensorflow_backend.py:3445: calling dropout (from tensorflow.python.ops.nn_ops) with keep_prob is deprecated and will be removed in a future version.\n",
      "Instructions for updating:\n",
      "Please use `rate` instead of `keep_prob`. Rate should be set to `rate = 1 - keep_prob`.\n",
      "WARNING:tensorflow:From /home/ec2-user/anaconda3/envs/tensorflow_p36/lib/python3.6/site-packages/keras/backend/tensorflow_backend.py:2974: where (from tensorflow.python.ops.array_ops) is deprecated and will be removed in a future version.\n",
      "Instructions for updating:\n",
      "Use tf.where in 2.0, which has the same broadcast rule as np.where\n",
      "==> model.final_name: k_lstm.n128.d0.3.dep1.bs8.L10.1.L20.1.ts1.0.partition=none\n",
      "==> compiling the model\n",
      "WARNING:tensorflow:From /home/ec2-user/anaconda3/envs/tensorflow_p36/lib/python3.6/site-packages/keras/optimizers.py:790: The name tf.train.Optimizer is deprecated. Please use tf.compat.v1.train.Optimizer instead.\n",
      "\n",
      "WARNING:tensorflow:From /home/ec2-user/anaconda3/envs/tensorflow_p36/lib/python3.6/site-packages/keras/backend/tensorflow_backend.py:3376: The name tf.log is deprecated. Please use tf.math.log instead.\n",
      "\n",
      "loss_function: binary_crossentropy\n",
      "_________________________________________________________________\n",
      "Layer (type)                 Output Shape              Param #   \n",
      "=================================================================\n",
      "X (InputLayer)               (None, None, 76)          0         \n",
      "_________________________________________________________________\n",
      "masking_1 (Masking)          (None, None, 76)          0         \n",
      "_________________________________________________________________\n",
      "lstm_1 (LSTM)                (None, 128)               104960    \n",
      "_________________________________________________________________\n",
      "dropout_1 (Dropout)          (None, 128)               0         \n",
      "_________________________________________________________________\n",
      "dense_1 (Dense)              (None, 1)                 129       \n",
      "=================================================================\n",
      "Total params: 105,089\n",
      "Trainable params: 105,089\n",
      "Non-trainable params: 0\n",
      "_________________________________________________________________\n",
      "BatchGen:BatchGen:BatchGen: batch size 8\n",
      "metrics to calculate\n",
      "==> training\n",
      "WARNING:tensorflow:From /home/ec2-user/anaconda3/envs/tensorflow_p36/lib/python3.6/site-packages/keras/backend/tensorflow_backend.py:986: The name tf.assign_add is deprecated. Please use tf.compat.v1.assign_add instead.\n",
      "\n",
      "WARNING:tensorflow:From /home/ec2-user/anaconda3/envs/tensorflow_p36/lib/python3.6/site-packages/keras/backend/tensorflow_backend.py:973: The name tf.assign is deprecated. Please use tf.compat.v1.assign instead.\n",
      "\n",
      "WARNING:tensorflow:From /home/ec2-user/anaconda3/envs/tensorflow_p36/lib/python3.6/site-packages/keras/backend/tensorflow_backend.py:2741: The name tf.Session is deprecated. Please use tf.compat.v1.Session instead.\n",
      "\n",
      "Epoch 1/50\n",
      "chunk_size is :  8000\n",
      "chunk_size is :  8192\n",
      "WARNING:tensorflow:From /home/ec2-user/anaconda3/envs/tensorflow_p36/lib/python3.6/site-packages/keras/backend/tensorflow_backend.py:174: The name tf.get_default_session is deprecated. Please use tf.compat.v1.get_default_session instead.\n",
      "\n",
      "WARNING:tensorflow:From /home/ec2-user/anaconda3/envs/tensorflow_p36/lib/python3.6/site-packages/keras/backend/tensorflow_backend.py:181: The name tf.ConfigProto is deprecated. Please use tf.compat.v1.ConfigProto instead.\n",
      "\n",
      "WARNING:tensorflow:From /home/ec2-user/anaconda3/envs/tensorflow_p36/lib/python3.6/site-packages/keras/backend/tensorflow_backend.py:190: The name tf.global_variables is deprecated. Please use tf.compat.v1.global_variables instead.\n",
      "\n",
      "WARNING:tensorflow:From /home/ec2-user/anaconda3/envs/tensorflow_p36/lib/python3.6/site-packages/keras/backend/tensorflow_backend.py:199: The name tf.is_variable_initialized is deprecated. Please use tf.compat.v1.is_variable_initialized instead.\n",
      "\n",
      "WARNING:tensorflow:From /home/ec2-user/anaconda3/envs/tensorflow_p36/lib/python3.6/site-packages/keras/backend/tensorflow_backend.py:206: The name tf.variables_initializer is deprecated. Please use tf.compat.v1.variables_initializer instead.\n",
      "\n",
      "chunk_size is :  7808\n",
      "chunk_size is :  8192\n",
      "chunk_size is :  8000\n",
      " - 1000s - loss: 0.1412 - val_loss: 0.1237\n",
      "\n",
      "==>predicting on train\n"
     ]
    }
   ],
   "source": [
    "!python -um main --network keras_models/lstm.py --dim 128 --timestep 1.0 --depth 1 --dropout 0.3 --mode train --batch_size 8 --partition none --train \"/home/ec2-user/SageMaker/mimic3-benchmarks/data/ventilator/train\" --test \"/home/ec2-user/SageMaker/mimic3-benchmarks/data/ventilator/test\" --listfile \"/home/ec2-user/SageMaker/mimic3-benchmarks/data/ventilator/\" --model_dir mimic3models/ventilator"
   ]
  },
  {
   "cell_type": "code",
   "execution_count": null,
   "id": "9a6eb5eb",
   "metadata": {},
   "outputs": [],
   "source": []
  },
  {
   "cell_type": "markdown",
   "id": "489c1e6b",
   "metadata": {},
   "source": [
    "## Test the code in SageMaker "
   ]
  },
  {
   "cell_type": "markdown",
   "id": "d737b7f6",
   "metadata": {},
   "source": [
    "## Upload the data to S3"
   ]
  },
  {
   "cell_type": "code",
   "execution_count": 5,
   "id": "e4e7145a",
   "metadata": {},
   "outputs": [
    {
     "name": "stdout",
     "output_type": "stream",
     "text": [
      "arn:aws:iam::468574038824:role/service-role/AmazonSageMaker-ExecutionRole-20210421T150707\n"
     ]
    }
   ],
   "source": [
    "import boto3\n",
    "import sagemaker\n",
    "from sagemaker import get_execution_role\n",
    "\n",
    "role = get_execution_role()\n",
    "print(role)\n",
    "sess = sagemaker.Session()\n",
    "bucket=\"mimic-data-for-demo\"\n"
   ]
  },
  {
   "cell_type": "markdown",
   "id": "d751ea02",
   "metadata": {},
   "source": [
    "train_path_s3 = sess.upload_data(\n",
    "    path='/home/ec2-user/SageMaker/mimic3-benchmarks/data/ventilator/train',  # source\n",
    "    bucket=bucket,\n",
    "    key_prefix='lstm_training/train'  # destination path in S3\n",
    ")\n",
    "\n",
    "test_path_s3 = sess.upload_data(\n",
    "    path='/home/ec2-user/SageMaker/mimic3-benchmarks/data/ventilator/test',  # source\n",
    "    bucket=bucket,\n",
    "    key_prefix='lstm_training/test'  \n",
    ")"
   ]
  },
  {
   "cell_type": "markdown",
   "id": "6b077c90",
   "metadata": {},
   "source": [
    "testlsfile_path_s3 = sess.upload_data(\n",
    "    path='/home/ec2-user/SageMaker/mimic3-benchmarks/data/ventilator/test_listfile.csv',  # source\n",
    "    bucket=bucket,\n",
    "    key_prefix='lstm_training/listfile'  \n",
    ")\n",
    "trainls_path_s3 = sess.upload_data(\n",
    "    path='/home/ec2-user/SageMaker/mimic3-benchmarks/data/ventilator/train_listfile.csv',  # source\n",
    "    bucket=bucket,\n",
    "    key_prefix='lstm_training/listfile'  \n",
    ")\n",
    "valls_path_s3 = sess.upload_data(\n",
    "    path='/home/ec2-user/SageMaker/mimic3-benchmarks/data/ventilator/val_listfile.csv',  # source\n",
    "    bucket=bucket,\n",
    "    key_prefix='lstm_training/listfile'  \n",
    ")"
   ]
  },
  {
   "cell_type": "code",
   "execution_count": 12,
   "id": "0e0538db",
   "metadata": {},
   "outputs": [
    {
     "data": {
      "text/plain": [
       "'s3://mimic-data-for-demo/lstm_training/listfile/train_listfile.csv'"
      ]
     },
     "execution_count": 12,
     "metadata": {},
     "output_type": "execute_result"
    }
   ],
   "source": [
    "train_path_s3"
   ]
  },
  {
   "cell_type": "code",
   "execution_count": 7,
   "id": "2948707a",
   "metadata": {},
   "outputs": [],
   "source": []
  },
  {
   "cell_type": "code",
   "execution_count": 6,
   "id": "f5796ec9",
   "metadata": {},
   "outputs": [],
   "source": [
    "import sagemaker\n",
    "from sagemaker.tensorflow import TensorFlow as TensorFlowEstimator\n",
    "\n",
    "from sagemaker.tensorflow import TensorFlow\n",
    "\n",
    "hyperparameters = {\"network\":'./keras_models/lstm.py', \"batch_size\": 8, \"dim\": 128, \"timestep\": 1.0, \"depth\":1,\"dropout\":0.3,\"partition\":'none'  }"
   ]
  },
  {
   "cell_type": "code",
   "execution_count": 7,
   "id": "f820c8be",
   "metadata": {},
   "outputs": [
    {
     "name": "stdout",
     "output_type": "stream",
     "text": [
      "{'train': 's3://mimic-data-for-demo/lstm_training/train', 'test': 's3://mimic-data-for-demo/lstm_training/test', 'listfile': 's3://mimic-data-for-demo/lstm_training/listfile'}\n"
     ]
    }
   ],
   "source": [
    "inputs = { \"train\": 's3://mimic-data-for-demo/lstm_training/train', \"test\": 's3://mimic-data-for-demo/lstm_training/test', \"listfile\":\"s3://mimic-data-for-demo/lstm_training/listfile\" }\n",
    "print(inputs)"
   ]
  },
  {
   "cell_type": "code",
   "execution_count": 8,
   "id": "661ceee1",
   "metadata": {},
   "outputs": [],
   "source": [
    "#!python -um main --network keras_models/lstm.py --dim 128 --timestep 1.0 --depth 1 --dropout 0.3 --mode train --batch_size 8 --partition none --train \"/home/ec2-user/SageMaker/mimic3-benchmarks/data/ventilator/train\" --test \"/home/ec2-user/SageMaker/mimic3-benchmarks/data/ventilator/test\" --listfile \"/home/ec2-user/SageMaker/mimic3-benchmarks/data/ventilator/\" --model_dir mimic3models/ventilator"
   ]
  },
  {
   "cell_type": "markdown",
   "id": "926e2e70",
   "metadata": {},
   "source": [
    "## local mode "
   ]
  },
  {
   "cell_type": "code",
   "execution_count": null,
   "id": "18c93574",
   "metadata": {},
   "outputs": [
    {
     "name": "stderr",
     "output_type": "stream",
     "text": [
      "distributions has been renamed in sagemaker>=2.\n",
      "See: https://sagemaker.readthedocs.io/en/stable/v2.html for details.\n"
     ]
    }
   ],
   "source": [
    "env = {\n",
    "    'SAGEMAKER_REQUIREMENTS': 'requirements.txt', # path relative to `source_dir` below.\n",
    "}\n",
    "estimator = TensorFlowEstimator(\n",
    "    framework_version=\"1.15.2\",\n",
    "    py_version=\"py37\",\n",
    "    instance_count=1,\n",
    "    instance_type=\"local\",  #\"ml.p3.2xlarge\",\n",
    "    role=role,\n",
    "    entry_point=\"main.py\",\n",
    "    source_dir=\"src\",\n",
    "    distributions={ \"parameter_server\": { \"enabled\": True } },\n",
    "    hyperparameters=hyperparameters,\n",
    "    metric_definitions=[\n",
    "        { \"Name\": \"loss\", \"Regex\": \"loss: ([0-9\\\\.]+)\" },\n",
    "        { \"Name\": \"accuracy\", \"Regex\": \"acc: ([0-9\\\\.]+)\" },\n",
    "        { \"Name\": \"validation:auroc\", \"Regex\": \"val_auroc=([0-9\\\\.]+)\" },\n",
    "        { \"Name\": \"validation:auprc\", \"Regex\": \"val_auprc=([0-9\\\\.]+)\" }\n",
    "    ],\n",
    "    env=env,\n",
    "    base_job_name=\"lstm-mimic\",\n",
    "    max_run=20*60,  # Maximum allowed active runtime\n",
    "    #use_spot_instances=True,  # Use spot instances to reduce cost\n",
    "    max_wait=30*60,  # Maximum clock time (including spot delays)\n",
    ")\n",
    "\n",
    "estimator.fit(inputs)"
   ]
  },
  {
   "cell_type": "markdown",
   "id": "1db7841b",
   "metadata": {},
   "source": [
    "## Container mode"
   ]
  },
  {
   "cell_type": "code",
   "execution_count": null,
   "id": "1f773246",
   "metadata": {},
   "outputs": [],
   "source": [
    "env = {\n",
    "    'SAGEMAKER_REQUIREMENTS': 'requirements.txt', # path relative to `source_dir` below.\n",
    "}\n",
    "estimator = TensorFlowEstimator(\n",
    "    framework_version=\"1.15.2\",\n",
    "    py_version=\"py37\",\n",
    "    instance_count=1,\n",
    "    instance_type=\"ml.p3.2xlarge\",\n",
    "    role=role,\n",
    "    entry_point=\"main.py\",\n",
    "    source_dir=\"src\",\n",
    "    distributions={ \"parameter_server\": { \"enabled\": True } },\n",
    "    hyperparameters=hyperparameters,\n",
    "    metric_definitions=[\n",
    "        { \"Name\": \"loss\", \"Regex\": \"loss: ([0-9\\\\.]+)\" },\n",
    "        { \"Name\": \"accuracy\", \"Regex\": \"acc: ([0-9\\\\.]+)\" },\n",
    "        { \"Name\": \"validation:auroc\", \"Regex\": \"val_auroc=([0-9\\\\.]+)\" },\n",
    "        { \"Name\": \"validation:auprc\", \"Regex\": \"val_auprc=([0-9\\\\.]+)\" }\n",
    "    ],\n",
    "    base_job_name=\"lstm-mimic\",\n",
    "    max_run=20*60,  # Maximum allowed active runtime\n",
    "    use_spot_instances=True,  # Use spot instances to reduce cost\n",
    "    max_wait=30*60,  # Maximum clock time (including spot delays)\n",
    ")\n",
    "\n",
    "estimator.fit(inputs)"
   ]
  },
  {
   "cell_type": "code",
   "execution_count": null,
   "id": "5e4d5ba0",
   "metadata": {},
   "outputs": [],
   "source": []
  }
 ],
 "metadata": {
  "kernelspec": {
   "display_name": "conda_tensorflow_p36",
   "language": "python",
   "name": "conda_tensorflow_p36"
  },
  "language_info": {
   "codemirror_mode": {
    "name": "ipython",
    "version": 3
   },
   "file_extension": ".py",
   "mimetype": "text/x-python",
   "name": "python",
   "nbconvert_exporter": "python",
   "pygments_lexer": "ipython3",
   "version": "3.6.13"
  }
 },
 "nbformat": 4,
 "nbformat_minor": 5
}
